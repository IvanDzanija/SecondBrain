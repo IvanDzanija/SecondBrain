{
 "cells": [
  {
   "cell_type": "markdown",
   "id": "a3879a38-b634-48b4-a762-566c2c135024",
   "metadata": {},
   "source": [
    "# Learning regression"
   ]
  },
  {
   "cell_type": "code",
   "execution_count": 1,
   "id": "0ea43611-0ba1-4ad5-873e-4b3d7411235f",
   "metadata": {},
   "outputs": [],
   "source": [
    "import pandas\n",
    "import quandl\n",
    "import math\n",
    "import numpy as np\n",
    "from sklearn import preprocessing, model_selection, svm\n",
    "from sklearn.linear_model import LinearRegression"
   ]
  },
  {
   "cell_type": "code",
   "execution_count": 3,
   "id": "f51c59ca-9dd9-4541-a0bd-dc1897a2b117",
   "metadata": {},
   "outputs": [],
   "source": [
    "quandl.ApiConfig.api_key = \"your api key\"\n",
    "df = quandl.get(\"WIKI/AAPL\")"
   ]
  },
  {
   "cell_type": "code",
   "execution_count": 4,
   "id": "b9926a16-f77a-4e5d-9e4a-86d2d3a1b25c",
   "metadata": {},
   "outputs": [
    {
     "name": "stdout",
     "output_type": "stream",
     "text": [
      "             Open   High    Low  Close     Volume  Ex-Dividend  Split Ratio  \\\n",
      "Date                                                                          \n",
      "1980-12-12  28.75  28.87  28.75  28.75  2093900.0          0.0          1.0   \n",
      "1980-12-15  27.38  27.38  27.25  27.25   785200.0          0.0          1.0   \n",
      "1980-12-16  25.37  25.37  25.25  25.25   472000.0          0.0          1.0   \n",
      "1980-12-17  25.87  26.00  25.87  25.87   385900.0          0.0          1.0   \n",
      "1980-12-18  26.63  26.75  26.63  26.63   327900.0          0.0          1.0   \n",
      "\n",
      "            Adj. Open  Adj. High  Adj. Low  Adj. Close  Adj. Volume  \n",
      "Date                                                                 \n",
      "1980-12-12   0.422706   0.424470  0.422706    0.422706  117258400.0  \n",
      "1980-12-15   0.402563   0.402563  0.400652    0.400652   43971200.0  \n",
      "1980-12-16   0.373010   0.373010  0.371246    0.371246   26432000.0  \n",
      "1980-12-17   0.380362   0.382273  0.380362    0.380362   21610400.0  \n",
      "1980-12-18   0.391536   0.393300  0.391536    0.391536   18362400.0  \n"
     ]
    }
   ],
   "source": [
    "df.to_parquet(\"aaplStockPrice.parquet\")\n",
    "print(df.head())"
   ]
  },
  {
   "cell_type": "markdown",
   "id": "41d7f45f",
   "metadata": {},
   "source": [
    "Looking at adjusted prices."
   ]
  },
  {
   "cell_type": "code",
   "execution_count": 30,
   "id": "d3aa0444-7615-47e5-9692-4f307aeb84c9",
   "metadata": {},
   "outputs": [],
   "source": [
    "df = df [[\"Adj. Open\", \"Adj. High\", \"Adj. Low\", \"Adj. Close\", \"Adj. Volume\"]]\n",
    "df[\"volHL\"] = (df[\"Adj. High\"] - df[\"Adj. Low\"]) / df[\"Adj. Low\"] * 100.0\n",
    "df[\"volOC\"] = (df[\"Adj. Close\"]- df[\"Adj. Open\"]) / df[\"Adj. Open\"] * 100.0\n",
    "\n",
    "df = df [[\"Adj. Close\", \"volHL\", \"volOC\", \"Adj. Volume\"]]"
   ]
  },
  {
   "cell_type": "code",
   "execution_count": 31,
   "id": "034d2a9e",
   "metadata": {},
   "outputs": [
    {
     "name": "stdout",
     "output_type": "stream",
     "text": [
      "            Adj. Close     volHL     volOC  Adj. Volume\n",
      "Date                                                   \n",
      "1980-12-12    0.422706  0.417391  0.000000  117258400.0\n",
      "1980-12-15    0.400652  0.477064 -0.474799   43971200.0\n",
      "1980-12-16    0.371246  0.475248 -0.473000   26432000.0\n",
      "1980-12-17    0.380362  0.502513  0.000000   21610400.0\n",
      "1980-12-18    0.391536  0.450620  0.000000   18362400.0\n"
     ]
    }
   ],
   "source": [
    "print(df.head())"
   ]
  },
  {
   "cell_type": "markdown",
   "id": "86af6df7",
   "metadata": {},
   "source": [
    "Chose the column we want to predict (in this case it's the closing price) and the output. \n",
    "Next we fill Nan values to avoid removing valuable data."
   ]
  },
  {
   "cell_type": "code",
   "execution_count": 32,
   "id": "00758c23",
   "metadata": {},
   "outputs": [],
   "source": [
    "forecastCol = \"Adj. Close\"\n",
    "forecastOut = int(math.ceil(0.1 * len(df)))\n",
    "df.fillna(-99999, inplace = True)"
   ]
  },
  {
   "cell_type": "markdown",
   "id": "10031195",
   "metadata": {},
   "source": [
    "Adding a label column being forecast column of our choosing shifted for output we selected."
   ]
  },
  {
   "cell_type": "code",
   "execution_count": 33,
   "id": "a68f843a",
   "metadata": {},
   "outputs": [],
   "source": [
    "df[\"label\"] = df[forecastCol].shift(-forecastOut)\n",
    "df.dropna(inplace = True)"
   ]
  },
  {
   "cell_type": "code",
   "execution_count": 38,
   "id": "1fb66618",
   "metadata": {},
   "outputs": [
    {
     "name": "stdout",
     "output_type": "stream",
     "text": [
      "            Adj. Close     volHL     volOC  Adj. Volume     label\n",
      "Date                                                             \n",
      "1980-12-12    0.422706  0.417391  0.000000  117258400.0  0.385949\n",
      "1980-12-15    0.400652  0.477064 -0.474799   43971200.0  0.385949\n",
      "1980-12-16    0.371246  0.475248 -0.473000   26432000.0  0.389625\n",
      "1980-12-17    0.380362  0.502513  0.000000   21610400.0  0.389625\n",
      "1980-12-18    0.391536  0.450620  0.000000   18362400.0  0.387713\n"
     ]
    }
   ],
   "source": [
    "print(df.head())"
   ]
  },
  {
   "cell_type": "markdown",
   "id": "cbd8f30c",
   "metadata": {},
   "source": [
    "Preparing the data set axis."
   ]
  },
  {
   "cell_type": "code",
   "execution_count": 49,
   "id": "ebf392f0",
   "metadata": {},
   "outputs": [
    {
     "name": "stdout",
     "output_type": "stream",
     "text": [
      "8460 8460\n"
     ]
    }
   ],
   "source": [
    "X = np.array(df.drop([\"label\"], axis = 1))\n",
    "y = np.array(df[\"label\"])\n",
    "print(len(X), len(y))"
   ]
  },
  {
   "cell_type": "markdown",
   "id": "8901ea28",
   "metadata": {},
   "source": [
    "We standardize and scale the data set with imported preprocessing function from sklearn.\n",
    "<br> Docs: https://scikit-learn.org/stable/modules/generated/sklearn.preprocessing.scale.html"
   ]
  },
  {
   "cell_type": "code",
   "execution_count": 50,
   "id": "2089ec3b",
   "metadata": {},
   "outputs": [],
   "source": [
    "X = preprocessing.scale(X)"
   ]
  },
  {
   "cell_type": "markdown",
   "id": "ca6e59d9",
   "metadata": {},
   "source": [
    "Spliting the data set into training and testing sets having 80% for training and 20% for testing data."
   ]
  },
  {
   "cell_type": "code",
   "execution_count": 51,
   "id": "8b49029e",
   "metadata": {},
   "outputs": [],
   "source": [
    "X_train, X_test, y_train, y_test = model_selection.train_test_split(X, y, test_size=0.2)"
   ]
  },
  {
   "cell_type": "markdown",
   "id": "db92d853",
   "metadata": {},
   "source": [
    "Next we select the classifier and test the accuracy of out linear regression."
   ]
  },
  {
   "cell_type": "code",
   "execution_count": 53,
   "id": "cf2692fe",
   "metadata": {},
   "outputs": [
    {
     "name": "stdout",
     "output_type": "stream",
     "text": [
      "0.8988466523371675\n"
     ]
    }
   ],
   "source": [
    "classifier = LinearRegression()\n",
    "classifier.fit(X_train, y_train)\n",
    "accuracy = classifier.score(X_test, y_test)\n",
    "print(accuracy)"
   ]
  },
  {
   "cell_type": "markdown",
   "id": "26bf493b",
   "metadata": {},
   "source": [
    "The result is excellent considering we use such simple prediction algorithm."
   ]
  }
 ],
 "metadata": {
  "kernelspec": {
   "display_name": "Python 3 (ipykernel)",
   "language": "python",
   "name": "python3"
  },
  "language_info": {
   "codemirror_mode": {
    "name": "ipython",
    "version": 3
   },
   "file_extension": ".py",
   "mimetype": "text/x-python",
   "name": "python",
   "nbconvert_exporter": "python",
   "pygments_lexer": "ipython3",
   "version": "3.10.14"
  }
 },
 "nbformat": 4,
 "nbformat_minor": 5
}
